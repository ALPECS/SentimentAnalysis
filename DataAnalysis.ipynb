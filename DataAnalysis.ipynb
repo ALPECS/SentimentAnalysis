{
 "cells": [
  {
   "cell_type": "code",
   "execution_count": 1,
   "outputs": [
    {
     "ename": "ModuleNotFoundError",
     "evalue": "No module named 'tweepy'",
     "output_type": "error",
     "traceback": [
      "\u001B[1;31m---------------------------------------------------------------------------\u001B[0m",
      "\u001B[1;31mModuleNotFoundError\u001B[0m                       Traceback (most recent call last)",
      "\u001B[1;32m~\\AppData\\Local\\Temp\\ipykernel_9696\\2991240425.py\u001B[0m in \u001B[0;36m<module>\u001B[1;34m\u001B[0m\n\u001B[0;32m      4\u001B[0m \u001B[1;33m\u001B[0m\u001B[0m\n\u001B[0;32m      5\u001B[0m \u001B[1;33m\u001B[0m\u001B[0m\n\u001B[1;32m----> 6\u001B[1;33m \u001B[1;32mimport\u001B[0m \u001B[0mtweepy\u001B[0m\u001B[1;33m\u001B[0m\u001B[1;33m\u001B[0m\u001B[0m\n\u001B[0m\u001B[0;32m      7\u001B[0m \u001B[1;33m\u001B[0m\u001B[0m\n\u001B[0;32m      8\u001B[0m \u001B[0mconsumer_key\u001B[0m \u001B[1;33m=\u001B[0m \u001B[1;34m\"BkEPb0jyEMmw878gj74vOrkFY\"\u001B[0m\u001B[1;33m\u001B[0m\u001B[1;33m\u001B[0m\u001B[0m\n",
      "\u001B[1;31mModuleNotFoundError\u001B[0m: No module named 'tweepy'"
     ]
    }
   ],
   "source": [
    "import openai\n",
    "import os\n",
    "import pandas as pd\n",
    "import tweepy\n",
    "\n",
    "consumer_key = \"BkEPb0jyEMmw878gj74vOrkFY\"\n",
    "consumer_secret = \"24dZiQhAZdTX4QFuZc9EZpfYJdnw83tzTARVq9KH0mITjQrcyE\"\n",
    "bearer_token = \"AAAAAAAAAAAAAAAAAAAAAL4NnAEAAAAAp%2BpBIxt%2FjZja7nn5wEZtInIgCAs%3DFzdsKA1nkcN6OrdDlCGiuKHcpRDowA8lcNAmZT0FVwl5YefguE\"\n",
    "\n",
    "auth = tweepy.AppAuthHandler(consumer_key, consumer_secret)\n",
    "twitterAPI = tweepy.API(auth)"
   ],
   "metadata": {
    "collapsed": false
   }
  },
  {
   "cell_type": "code",
   "execution_count": 2,
   "outputs": [
    {
     "name": "stdout",
     "output_type": "stream",
     "text": [
      "(10, 4)\n"
     ]
    },
    {
     "data": {
      "text/plain": "                    id                      date      user_name   \n0  1651355063938592768 2023-04-26 22:38:22+00:00       Banstok2  \\\n1  1651355017738346496 2023-04-26 22:38:11+00:00       Banstok2   \n2  1651354995911200768 2023-04-26 22:38:06+00:00       Banstok2   \n3  1651354937861996544 2023-04-26 22:37:52+00:00       Banstok2   \n4  1651354935810981888 2023-04-26 22:37:52+00:00  BenjaminMilo4   \n\n                                                text  \n0  Guys, Don't miss the next move in a few hours:...  \n1  Guys, Don't miss the next move in a few hours:...  \n2  Guys, Don't miss the next move in a few hours:...  \n3  Guys, Don't miss the next move in a few hours:...  \n4  ARE YOU READY for NEXT BULLISH TRADE🚀 $FTM $ST...  ",
      "text/html": "<div>\n<style scoped>\n    .dataframe tbody tr th:only-of-type {\n        vertical-align: middle;\n    }\n\n    .dataframe tbody tr th {\n        vertical-align: top;\n    }\n\n    .dataframe thead th {\n        text-align: right;\n    }\n</style>\n<table border=\"1\" class=\"dataframe\">\n  <thead>\n    <tr style=\"text-align: right;\">\n      <th></th>\n      <th>id</th>\n      <th>date</th>\n      <th>user_name</th>\n      <th>text</th>\n    </tr>\n  </thead>\n  <tbody>\n    <tr>\n      <th>0</th>\n      <td>1651355063938592768</td>\n      <td>2023-04-26 22:38:22+00:00</td>\n      <td>Banstok2</td>\n      <td>Guys, Don't miss the next move in a few hours:...</td>\n    </tr>\n    <tr>\n      <th>1</th>\n      <td>1651355017738346496</td>\n      <td>2023-04-26 22:38:11+00:00</td>\n      <td>Banstok2</td>\n      <td>Guys, Don't miss the next move in a few hours:...</td>\n    </tr>\n    <tr>\n      <th>2</th>\n      <td>1651354995911200768</td>\n      <td>2023-04-26 22:38:06+00:00</td>\n      <td>Banstok2</td>\n      <td>Guys, Don't miss the next move in a few hours:...</td>\n    </tr>\n    <tr>\n      <th>3</th>\n      <td>1651354937861996544</td>\n      <td>2023-04-26 22:37:52+00:00</td>\n      <td>Banstok2</td>\n      <td>Guys, Don't miss the next move in a few hours:...</td>\n    </tr>\n    <tr>\n      <th>4</th>\n      <td>1651354935810981888</td>\n      <td>2023-04-26 22:37:52+00:00</td>\n      <td>BenjaminMilo4</td>\n      <td>ARE YOU READY for NEXT BULLISH TRADE🚀 $FTM $ST...</td>\n    </tr>\n  </tbody>\n</table>\n</div>"
     },
     "execution_count": 2,
     "metadata": {},
     "output_type": "execute_result"
    }
   ],
   "source": [
    "tweet_dataset = []\n",
    "tweets = twitterAPI.search_tweets(q='RDNT -filter:retweets -filter:replies',\n",
    "                                  lang = \"en\",\n",
    "                                  result_type=\"recent\",\n",
    "                                  count = 10\n",
    "                                 )\n",
    "\n",
    "for tweet in tweets:\n",
    "    tweet_content = {'id': tweet.id,\n",
    "                     'date': tweet.created_at,\n",
    "                     'user_name': tweet.user.screen_name,\n",
    "                     'text': tweet.text,\n",
    "                     }\n",
    "\n",
    "    tweet_dataset.append(tweet_content)\n",
    "\n",
    "tweet_dataframe = pd.DataFrame(tweet_dataset)\n",
    "print(tweet_dataframe.shape)\n",
    "tweet_dataframe.head()\n"
   ],
   "metadata": {
    "collapsed": false
   }
  },
  {
   "cell_type": "code",
   "execution_count": null,
   "outputs": [],
   "source": [],
   "metadata": {
    "collapsed": false
   }
  }
 ],
 "metadata": {
  "kernelspec": {
   "display_name": "Python 3",
   "language": "python",
   "name": "python3"
  },
  "language_info": {
   "codemirror_mode": {
    "name": "ipython",
    "version": 2
   },
   "file_extension": ".py",
   "mimetype": "text/x-python",
   "name": "python",
   "nbconvert_exporter": "python",
   "pygments_lexer": "ipython2",
   "version": "2.7.6"
  }
 },
 "nbformat": 4,
 "nbformat_minor": 0
}
